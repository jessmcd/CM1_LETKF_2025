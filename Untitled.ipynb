{
 "cells": [
  {
   "cell_type": "code",
   "execution_count": 7,
   "id": "9734e6d3-5a88-4142-8ccb-32e3893e0f55",
   "metadata": {},
   "outputs": [],
   "source": [
    "#import datetime as dt\n",
    "import cftime \n",
    "from datetime import datetime as py_datetime"
   ]
  },
  {
   "cell_type": "code",
   "execution_count": null,
   "id": "57f669e7-2244-4ce5-91ab-a49f6153dc9c",
   "metadata": {},
   "outputs": [],
   "source": [
    "day_utime = "
   ]
  },
  {
   "cell_type": "code",
   "execution_count": 6,
   "id": "bccc1a53-e0cd-48a6-8e2d-6b11a9569f5c",
   "metadata": {},
   "outputs": [
    {
     "ename": "AttributeError",
     "evalue": "module 'cftime' has no attribute 'time'",
     "output_type": "error",
     "traceback": [
      "\u001b[0;31m---------------------------------------------------------------------------\u001b[0m",
      "\u001b[0;31mAttributeError\u001b[0m                            Traceback (most recent call last)",
      "Cell \u001b[0;32mIn[6], line 1\u001b[0m\n\u001b[0;32m----> 1\u001b[0m \u001b[43mcftime\u001b[49m\u001b[38;5;241;43m.\u001b[39;49m\u001b[43mtime\u001b[49m(\u001b[38;5;124m\"\u001b[39m\u001b[38;5;124mdays since 1601-01-01 00:00:00\u001b[39m\u001b[38;5;124m\"\u001b[39m)\n",
      "\u001b[0;31mAttributeError\u001b[0m: module 'cftime' has no attribute 'time'"
     ]
    }
   ],
   "source": [
    "cftime.time(\"days since 1601-01-01 00:00:00\")"
   ]
  },
  {
   "cell_type": "code",
   "execution_count": null,
   "id": "4cddf8e6-bae1-4b6a-ac75-ac5777603d78",
   "metadata": {},
   "outputs": [],
   "source": [
    "day_utime   = utime(\"days since 1601-01-01 00:00:00\")\n",
    "sec_utime   = utime(\"seconds since 1970-01-01 00:00:00\")\n",
    "time_format = \"%Y-%m-%d_%H:%M:%S\""
   ]
  },
  {
   "cell_type": "code",
   "execution_count": 9,
   "id": "ec374c4e-ae89-436a-a082-8bcb7757efca",
   "metadata": {},
   "outputs": [
    {
     "data": {
      "text/plain": [
       "1051992000"
      ]
     },
     "execution_count": 9,
     "metadata": {},
     "output_type": "execute_result"
    }
   ],
   "source": [
    "start = dt.datetime(2003, 5, 3, 20, 00)\n",
    "cftime.date2num(start, \"seconds since 1970-01-01 00:00:00\")"
   ]
  },
  {
   "cell_type": "code",
   "execution_count": null,
   "id": "1d4beb11-d83a-4233-a1bf-8e326c1e99e1",
   "metadata": {},
   "outputs": [],
   "source": [
    " table1.cols.utime.create_index()\n",
    "utime_start = sec_utime.date2num(self.start) #self.start is a datetime object"
   ]
  }
 ],
 "metadata": {
  "kernelspec": {
   "display_name": "Python 3 (ipykernel)",
   "language": "python",
   "name": "python3"
  },
  "language_info": {
   "codemirror_mode": {
    "name": "ipython",
    "version": 3
   },
   "file_extension": ".py",
   "mimetype": "text/x-python",
   "name": "python",
   "nbconvert_exporter": "python",
   "pygments_lexer": "ipython3",
   "version": "3.11.11"
  }
 },
 "nbformat": 4,
 "nbformat_minor": 5
}
